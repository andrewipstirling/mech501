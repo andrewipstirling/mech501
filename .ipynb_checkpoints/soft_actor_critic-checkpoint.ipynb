{
 "cells": [
  {
   "cell_type": "code",
   "execution_count": 3,
   "metadata": {},
   "outputs": [],
   "source": [
    "from IPython.display import HTML"
   ]
  },
  {
   "cell_type": "markdown",
   "metadata": {},
   "source": [
    "# Reinforcement Learning for Inverted Pendulum Control\n",
    "\n",
    "## Introduction\n",
    "\n",
    "Control theory, is centred around the behaviour of dynamic systems, and how as\n",
    "engineers we can force it to behave in a certain way. In the context of Mechanical Engineering, these systems could vary from robotics, to automotive systems, to aerospace and HVAC applications. A large portion of Control design is spent modelling the system or \"plant\". This requires a good grasp of the system's mechanics, understanding all variables that may influence its behaviour. For complex systems, these dynamics are highly non-linear, while exhibiting large degrees of freedom. In such applications, traditional control techniques may struggle to produce reliable and accurate behaviour. Moreover, we may not even be able to model the system, making any form of controller design impossible. \n",
    "\n",
    "In these cases, we can make use of Reinforcement Learning (RL) for controlling such complex systems. RL operates in a model-free fashion, meaning we are not required to have an explicit model of a system's behaviour given various inputs. Using RL, we can effectively sidestep all the disadvantages of model-based controller design. RL generally consists of an agent who, through interacting with an environment, can learn to map various situations to actions. Specifically, the environment provides responses to each a agent's action, using these responses and rewards dependent on various states of the agent, we can condition the agent's decisions towards optimal states. In class, the problems we solved required the action and/or the state to be discretizable. However, for continuous systems, this may not be possible or if it is, it raises the question to what resolution we look to discretize the space or actions. The Soft Actor-Critic architecture is a form of RL that looks to solve this problem. \n",
    "\n",
    "In this project, we look to investigate RL's applications and performance in control settings. Specifically, we look to investigate the Soft Actor-Critic (SAC) architecture's ability to control a continuous system, consisting of an inverted pendulum on a cart. \n",
    "\n",
    "\n",
    "### The Inverted Pendulum\n",
    "\n",
    "The inverted problem is a \"classic\" problem in Control Theory. In this experiment, we have a pendulum or pole on top of a cart, which can move side to side. The goal is to keep the pendulum upright, by applying varied forces to the cart. The Farama-Foundation provides the \"gymnasium\" environment [1] (formerly maintained by OpenAI), which allows us to test various RL architectures applied to this problem. Pre-defined in this environment [2] is a continuous action space in the range [-3, 3] N, which represents the amount of force we can apply to the cart. Similarly, the observations space consists of 4 states represented as an ndarry with shape 4 holding the position of the cart along the slider, vertical angle of the pole on the cart, linear velocity of the cart, and angular velocity of the pole on the cart, respectively. All values can be in the range of [-Inf, Inf]. The reward is +1 for every timestep that the pole is upright. To get a sense of how the pendulum acts, we can start with random actions to see how it responds. The episode ends when either the episode duration reaches 1000 timesteps, any of the state space values are no longer finite, or the vertical angle of the pendulum drops to below 90 degrees (even with the cart). To get a sense of the system, we can display the response of the pendulum to random actions as seen below. \n"
   ]
  },
  {
   "cell_type": "code",
   "execution_count": 5,
   "metadata": {},
   "outputs": [
    {
     "data": {
      "text/html": [
       "\n",
       "<center>\n",
       "    <video width=\"480\" height=\"360\" controls>\n",
       "        <source src=\"vids/no_control.mp4\" type=\"video/mp4\">\n",
       "    </video>\n",
       "</center>\n"
      ],
      "text/plain": [
       "<IPython.core.display.HTML object>"
      ]
     },
     "execution_count": 5,
     "metadata": {},
     "output_type": "execute_result"
    }
   ],
   "source": [
    "\n",
    "HTML(\"\"\"\n",
    "<center>\n",
    "    <video width=\"480\" height=\"360\" controls>\n",
    "        <source src=\"vids/no_control.mp4\" type=\"video/mp4\">\n",
    "    </video>\n",
    "</center>\n",
    "\"\"\")"
   ]
  },
  {
   "cell_type": "code",
   "execution_count": 6,
   "metadata": {},
   "outputs": [
    {
     "ename": "NameError",
     "evalue": "name 'markdown' is not defined",
     "output_type": "error",
     "traceback": [
      "\u001b[1;31m---------------------------------------------------------------------------\u001b[0m",
      "\u001b[1;31mNameError\u001b[0m                                 Traceback (most recent call last)",
      "Cell \u001b[1;32mIn [6], line 1\u001b[0m\n\u001b[1;32m----> 1\u001b[0m [\u001b[43mmarkdown\u001b[49m]\n",
      "\u001b[1;31mNameError\u001b[0m: name 'markdown' is not defined"
     ]
    }
   ],
   "source": []
  }
 ],
 "metadata": {
  "kernelspec": {
   "display_name": "Python 3 (ipykernel)",
   "language": "python",
   "name": "python3"
  },
  "language_info": {
   "codemirror_mode": {
    "name": "ipython",
    "version": 3
   },
   "file_extension": ".py",
   "mimetype": "text/x-python",
   "name": "python",
   "nbconvert_exporter": "python",
   "pygments_lexer": "ipython3",
   "version": "3.10.6"
  }
 },
 "nbformat": 4,
 "nbformat_minor": 2
}
